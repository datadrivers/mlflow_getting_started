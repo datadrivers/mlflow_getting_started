{
 "cells": [
  {
   "cell_type": "markdown",
   "id": "34b7b02a",
   "metadata": {},
   "source": [
    "# Loading models"
   ]
  },
  {
   "cell_type": "code",
   "execution_count": null,
   "id": "36b4120d",
   "metadata": {},
   "outputs": [],
   "source": [
    "import mlflow\n",
    "from mlflow.tracking import MlflowClient\n",
    "import sys\n",
    "sys.path.append(\"../\")\n",
    "from utils import get_latest_run_id, get_path_of_run_id, get_model_path_of_latest_run, get_random_wine_classifier_input\n",
    "from config import mlflow_server_uri\n",
    "import pandas as pd\n",
    "import numpy as np"
   ]
  },
  {
   "cell_type": "code",
   "execution_count": null,
   "id": "dense-clinic",
   "metadata": {},
   "outputs": [],
   "source": [
    "mlflow.set_tracking_uri(mlflow_server_uri)\n",
    "mlflow.set_registry_uri(mlflow_server_uri)\n",
    "client = MlflowClient()"
   ]
  },
  {
   "cell_type": "markdown",
   "id": "sustained-segment",
   "metadata": {},
   "source": [
    "## Load a tracked model"
   ]
  },
  {
   "cell_type": "code",
   "execution_count": null,
   "id": "b26b74e3",
   "metadata": {},
   "outputs": [],
   "source": [
    "client.list_experiments()"
   ]
  },
  {
   "cell_type": "code",
   "execution_count": null,
   "id": "conditional-wrist",
   "metadata": {},
   "outputs": [],
   "source": [
    "mlflow.search_runs(experiment_ids=\"2\").head(3)"
   ]
  },
  {
   "cell_type": "code",
   "execution_count": null,
   "id": "synthetic-explanation",
   "metadata": {},
   "outputs": [],
   "source": [
    "get_model_path_of_latest_run(\"2\", \"my_model\")"
   ]
  },
  {
   "cell_type": "markdown",
   "id": "little-remainder",
   "metadata": {},
   "source": [
    "### sklearn API"
   ]
  },
  {
   "cell_type": "code",
   "execution_count": null,
   "id": "identical-anxiety",
   "metadata": {},
   "outputs": [],
   "source": [
    "path = get_model_path_of_latest_run(\"2\", \"my_model\")"
   ]
  },
  {
   "cell_type": "code",
   "execution_count": null,
   "id": "4d9da8fc",
   "metadata": {},
   "outputs": [],
   "source": [
    "my_model = mlflow.sklearn.load_model(path)"
   ]
  },
  {
   "cell_type": "code",
   "execution_count": null,
   "id": "130aae42",
   "metadata": {},
   "outputs": [],
   "source": [
    "my_model"
   ]
  },
  {
   "cell_type": "code",
   "execution_count": null,
   "id": "located-error",
   "metadata": {},
   "outputs": [],
   "source": [
    "x = get_random_wine_classifier_input()"
   ]
  },
  {
   "cell_type": "code",
   "execution_count": null,
   "id": "exact-rainbow",
   "metadata": {},
   "outputs": [],
   "source": [
    "x"
   ]
  },
  {
   "cell_type": "code",
   "execution_count": null,
   "id": "sorted-artwork",
   "metadata": {},
   "outputs": [],
   "source": [
    "my_model.predict_proba(x)"
   ]
  },
  {
   "cell_type": "markdown",
   "id": "a8821d47",
   "metadata": {},
   "source": [
    "### Pyfunc model"
   ]
  },
  {
   "cell_type": "code",
   "execution_count": null,
   "id": "a03efd33",
   "metadata": {},
   "outputs": [],
   "source": [
    "my_model = mlflow.pyfunc.load_model(path)"
   ]
  },
  {
   "cell_type": "code",
   "execution_count": null,
   "id": "9e04f97a",
   "metadata": {},
   "outputs": [],
   "source": [
    "my_model"
   ]
  },
  {
   "cell_type": "code",
   "execution_count": null,
   "id": "democratic-homeless",
   "metadata": {},
   "outputs": [],
   "source": [
    "df = pd.DataFrame(get_random_wine_classifier_input())"
   ]
  },
  {
   "cell_type": "code",
   "execution_count": null,
   "id": "hydraulic-kruger",
   "metadata": {},
   "outputs": [],
   "source": [
    "df"
   ]
  },
  {
   "cell_type": "code",
   "execution_count": null,
   "id": "72f38017",
   "metadata": {},
   "outputs": [],
   "source": [
    "my_model.predict(df)"
   ]
  },
  {
   "cell_type": "code",
   "execution_count": null,
   "id": "preliminary-natural",
   "metadata": {},
   "outputs": [],
   "source": [
    "df[\"Predicted_Class\"] = my_model.predict(df)"
   ]
  },
  {
   "cell_type": "code",
   "execution_count": null,
   "id": "annoying-dragon",
   "metadata": {},
   "outputs": [],
   "source": [
    "df"
   ]
  },
  {
   "cell_type": "markdown",
   "id": "tropical-clone",
   "metadata": {},
   "source": [
    "## Load a registred model"
   ]
  },
  {
   "cell_type": "markdown",
   "id": "married-bullet",
   "metadata": {},
   "source": [
    "### Use a specific version"
   ]
  },
  {
   "cell_type": "code",
   "execution_count": null,
   "id": "parallel-smile",
   "metadata": {},
   "outputs": [],
   "source": [
    "model_name = \"My_wine_model\"\n",
    "version = '1'"
   ]
  },
  {
   "cell_type": "code",
   "execution_count": null,
   "id": "portable-explosion",
   "metadata": {},
   "outputs": [],
   "source": [
    "model = mlflow.pyfunc.load_model(\n",
    "    model_uri=f\"models:/{model_name}/{version}\"\n",
    ")"
   ]
  },
  {
   "cell_type": "code",
   "execution_count": null,
   "id": "animated-differential",
   "metadata": {},
   "outputs": [],
   "source": [
    "model"
   ]
  },
  {
   "cell_type": "markdown",
   "id": "modular-updating",
   "metadata": {},
   "source": [
    "### Use a specific stage"
   ]
  },
  {
   "cell_type": "code",
   "execution_count": null,
   "id": "retired-butterfly",
   "metadata": {},
   "outputs": [],
   "source": [
    "model_name = \"My_wine_model\"\n",
    "stage = 'Staging'"
   ]
  },
  {
   "cell_type": "code",
   "execution_count": null,
   "id": "literary-circus",
   "metadata": {},
   "outputs": [],
   "source": [
    "model = mlflow.pyfunc.load_model(\n",
    "    model_uri=f\"models:/{model_name}/{stage}\"\n",
    ")"
   ]
  },
  {
   "cell_type": "code",
   "execution_count": null,
   "id": "subject-title",
   "metadata": {},
   "outputs": [],
   "source": [
    "model"
   ]
  },
  {
   "cell_type": "code",
   "execution_count": null,
   "id": "exact-geneva",
   "metadata": {},
   "outputs": [],
   "source": []
  }
 ],
 "metadata": {
  "kernelspec": {
   "display_name": "mlflow_venv",
   "language": "python",
   "name": "mlflow_venv"
  },
  "language_info": {
   "codemirror_mode": {
    "name": "ipython",
    "version": 3
   },
   "file_extension": ".py",
   "mimetype": "text/x-python",
   "name": "python",
   "nbconvert_exporter": "python",
   "pygments_lexer": "ipython3",
   "version": "3.8.10"
  },
  "toc": {
   "base_numbering": 1,
   "nav_menu": {},
   "number_sections": true,
   "sideBar": true,
   "skip_h1_title": false,
   "title_cell": "Table of Contents",
   "title_sidebar": "Contents",
   "toc_cell": false,
   "toc_position": {
    "height": "calc(100% - 180px)",
    "left": "10px",
    "top": "150px",
    "width": "243.2px"
   },
   "toc_section_display": true,
   "toc_window_display": true
  }
 },
 "nbformat": 4,
 "nbformat_minor": 5
}
